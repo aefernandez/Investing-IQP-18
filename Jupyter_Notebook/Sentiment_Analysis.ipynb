{
 "cells": [
  {
   "cell_type": "markdown",
   "metadata": {},
   "source": [
    "This notebook is for the development of the Sentiment Analysis script that was used in the Trading Systems Development IQP. The indicator attempts to measure the sentiment of news headlines, which will be used to predict upcomming movements in the markets. \n",
    "\n",
    "The headlines are scraped using Selenium from the Investing.com website. The headlines are then preprocessed and their sentiment analyzed using the lexicon approach described by Loughran and McDonald [1]. The lexicon approach entails the use of two lists of words, one negative and one positive, counting the number of each type of word as well as the frequency of each individual word. This method yields a score for each headline, which is then aggregated on a daily basis to determine the score of the day.\n",
    "\n",
    "[1] \"When is a liability not a liability? Textual Analysis, Dictionaries, and 10-Ks\" https://papers.ssrn.com/sol3/papers.cfm?abstract_id=1331573 \n"
   ]
  },
  {
   "cell_type": "markdown",
   "metadata": {},
   "source": [
    "The sentiment score is calculated using the following formula:\n",
    "\n",
    "$$\n",
    "f(x) = \\left\\{\n",
    "        \\begin{array}{ll}\n",
    "            \\frac{(1+log(tf_{i,j}))}{(1+log(a))}*log(\\frac{N}{df_{i,j}}) & tf_{i,j} \\geq 1\\\\\n",
    "            0 & otherwise\n",
    "        \\end{array}\n",
    "    \\right.\n",
    "$$\n",
    "\n",
    "Where the following variables are used:\n",
    "\n",
    "$$\n",
    "\\text{N, the total number of headlines in the sample.}\n",
    "\\\\\n",
    "\\text{a, the average word count in the sample.}\n",
    "\\\\\n",
    "\\text{ $tf_{i,j}$, the raw count of the $i^{th}$ word in the $j^{th}$ document.}\n",
    "\\\\\n",
    "\\text{$df_i$, the number of headlines containing at least one occurrence of the $i^{th}$ word.}\n",
    "$$\n"
   ]
  },
  {
   "cell_type": "code",
   "execution_count": null,
   "metadata": {},
   "outputs": [],
   "source": []
  },
  {
   "cell_type": "code",
   "execution_count": null,
   "metadata": {},
   "outputs": [],
   "source": []
  }
 ],
 "metadata": {
  "kernelspec": {
   "display_name": "Python 3",
   "language": "python",
   "name": "python3"
  },
  "language_info": {
   "codemirror_mode": {
    "name": "ipython",
    "version": 3
   },
   "file_extension": ".py",
   "mimetype": "text/x-python",
   "name": "python",
   "nbconvert_exporter": "python",
   "pygments_lexer": "ipython3",
   "version": "3.6.4"
  }
 },
 "nbformat": 4,
 "nbformat_minor": 2
}
